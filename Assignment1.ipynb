{
 "cells": [
  {
   "cell_type": "code",
   "execution_count": 20,
   "id": "4d004d65",
   "metadata": {},
   "outputs": [
    {
     "name": "stdout",
     "output_type": "stream",
     "text": [
      "Requirement already satisfied: pytrec_eval in /Users/xyz/anaconda3/lib/python3.11/site-packages (0.5)\n",
      "Note: you may need to restart the kernel to use updated packages.\n"
     ]
    }
   ],
   "source": [
    "pip install pytrec_eval"
   ]
  },
  {
   "cell_type": "code",
   "execution_count": 22,
   "id": "e74af703",
   "metadata": {},
   "outputs": [
    {
     "name": "stderr",
     "output_type": "stream",
     "text": [
      "[nltk_data] Downloading package wordnet to /Users/xyz/nltk_data...\n",
      "[nltk_data]   Package wordnet is already up-to-date!\n"
     ]
    },
    {
     "data": {
      "text/plain": [
       "True"
      ]
     },
     "execution_count": 22,
     "metadata": {},
     "output_type": "execute_result"
    }
   ],
   "source": [
    "import nltk\n",
    "nltk.download('wordnet')"
   ]
  },
  {
   "cell_type": "code",
   "execution_count": 1,
   "id": "be1aa565",
   "metadata": {},
   "outputs": [],
   "source": [
    "from nltk.corpus import wordnet as wn"
   ]
  },
  {
   "cell_type": "code",
   "execution_count": 2,
   "id": "31759b8f",
   "metadata": {},
   "outputs": [],
   "source": [
    "from nltk.corpus import wordnet as wn\n",
    "dictionary=[]\n",
    "for synset in wn.all_synsets():\n",
    "    for lemma in synset.lemmas():\n",
    "        dictionary.append(lemma.name())"
   ]
  },
  {
   "cell_type": "code",
   "execution_count": 8,
   "id": "de6976d1",
   "metadata": {},
   "outputs": [],
   "source": [
    "with open('Birkbeck_Subset.txt', 'r') as file:\n",
    "    lines = file.readlines()\n",
    "lines = [line.strip() for line in lines if line.strip()]\n",
    "birkbeck_corpus=[]\n",
    "original_word=''\n",
    "for text in lines:\n",
    "    if text.startswith('$'):\n",
    "        original_word=text[1:]\n",
    "    else:\n",
    "#         print(text)\n",
    "        birkbeck_corpus.append((text,original_word))"
   ]
  },
  {
   "cell_type": "code",
   "execution_count": 4,
   "id": "3b45b1f5",
   "metadata": {
    "scrolled": true
   },
   "outputs": [],
   "source": [
    "# def MED(str1, str2, strlen1, strlen2):\n",
    "#     if strlen1 == 0:\n",
    "#         return strlen2\n",
    "#     if strlen2 == 0:\n",
    "#         return strlen1\n",
    "#     if str1[strlen1-1] == str2[strlen2-1]:\n",
    "#         return MED(str1, str2, strlen1-1, strlen2-1)\n",
    "#     return 1 + min(MED(str1, str2, strlen1, strlen2-1),\n",
    "#                    MED(str1, str2, strlen1-1, strlen2),\n",
    "#                    MED(str1, str2, strlen1-1, strlen2-1))"
   ]
  },
  {
   "cell_type": "code",
   "execution_count": 5,
   "id": "fc3125f8",
   "metadata": {},
   "outputs": [],
   "source": [
    "def min_edit_distance(str1, str2):\n",
    "    m = len(str1)\n",
    "    n = len(str2)\n",
    "    dp = [[0] * (n + 1) for _ in range(m + 1)]\n",
    "    for i in range(m + 1):\n",
    "        for j in range(n + 1):\n",
    "            if i == 0:\n",
    "                dp[i][j] = j\n",
    "            elif j == 0:\n",
    "                dp[i][j] = i\n",
    "            elif str1[i - 1] == str2[j - 1]:\n",
    "                dp[i][j] = dp[i - 1][j - 1]\n",
    "            else:\n",
    "                dp[i][j] = 1 + min(dp[i][j - 1],dp[i - 1][j],dp[i - 1][j - 1])\n",
    "    return dp[m][n]\n",
    "\n"
   ]
  },
  {
   "cell_type": "code",
   "execution_count": 7,
   "id": "c9be19eb",
   "metadata": {
    "scrolled": true
   },
   "outputs": [
    {
     "name": "stdout",
     "output_type": "stream",
     "text": [
      "Average s@1: 0.302\n",
      "Average s@5: 0.43\n",
      "Average s@10: 0.482\n"
     ]
    }
   ],
   "source": [
    "from difflib import SequenceMatcher\n",
    "from collections import defaultdict\n",
    "from concurrent.futures import ThreadPoolExecutor, as_completed\n",
    "def findRelatedWord(i):\n",
    "    top_k_items=[]\n",
    "#     filtered_dictionary=[item for item in dictionary if item[0]==i[0][0]]\n",
    "    filtered_dictionary=list(dict.fromkeys(dictionary))\n",
    "    for filtered_item in filtered_dictionary:\n",
    "        ratio = min_edit_distance(i[0], filtered_item)\n",
    "        if len(top_k_items) < 10 or ratio < top_k_items[-1][1]:\n",
    "            top_k_items.append((filtered_item, ratio))\n",
    "            top_k_items.sort(key=lambda x: x[1], reverse=False)\n",
    "            top_k_items = top_k_items[:10]\n",
    "    return { \n",
    "        'related_word':top_k_items,\n",
    "        'original_word':i[1]\n",
    "                               }\n",
    "ks = [1, 5, 10]\n",
    "satk_values = defaultdict(list)\n",
    "with ThreadPoolExecutor(max_workers=20) as executor:\n",
    "    futures = [executor.submit(findRelatedWord, i) for i in birkbeck_corpus]\n",
    "    for future in as_completed(futures):\n",
    "        result = future.result()\n",
    "        related_words = result['related_word']\n",
    "        original_word = result['original_word']\n",
    "        for k in ks:\n",
    "            is_correct_in_top_k = original_word in [word[0] for word in related_words[:k]]\n",
    "            satk_values[k].append(1 if is_correct_in_top_k else 0)\n",
    "average_satk_values = {k: sum(satk_values[k]) / len(satk_values[k]) for k in ks}\n",
    "for k, avg_satk in average_satk_values.items():\n",
    "    print(f\"Average s@{k}: {avg_satk}\")"
   ]
  },
  {
   "cell_type": "code",
   "execution_count": null,
   "id": "c0a254d7",
   "metadata": {},
   "outputs": [],
   "source": []
  }
 ],
 "metadata": {
  "kernelspec": {
   "display_name": "Python 3 (ipykernel)",
   "language": "python",
   "name": "python3"
  },
  "language_info": {
   "codemirror_mode": {
    "name": "ipython",
    "version": 3
   },
   "file_extension": ".py",
   "mimetype": "text/x-python",
   "name": "python",
   "nbconvert_exporter": "python",
   "pygments_lexer": "ipython3",
   "version": "3.11.5"
  }
 },
 "nbformat": 4,
 "nbformat_minor": 5
}
